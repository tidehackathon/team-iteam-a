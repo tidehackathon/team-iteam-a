{
 "cells": [
  {
   "cell_type": "code",
   "execution_count": 1,
   "metadata": {},
   "outputs": [],
   "source": [
    "import altair as alt\n",
    "import numpy as np\n",
    "import pandas as pd\n",
    "\n",
    "# Compute x^2 + y^2 across a 2D grid\n",
    "x, y = np.meshgrid(range(-5, 5), range(-5, 5))\n",
    "z = x ** 2 + y ** 2\n",
    "\n",
    "# Convert this grid to columnar data expected by Altair\n",
    "source = pd.DataFrame({'x': x.ravel(),\n",
    "                     'y': y.ravel(),\n",
    "                     'z': z.ravel()})\n",
    "\n",
    "chart = alt.Chart(source).mark_rect().encode(\n",
    "    x='x:O',\n",
    "    y='y:O',\n",
    "    color='z:Q'\n",
    ")\n",
    "\n"
   ]
  },
  {
   "cell_type": "code",
   "execution_count": 2,
   "metadata": {},
   "outputs": [],
   "source": [
    "viz_message = {\n",
    "    \"id\": \"id002\",\n",
    "    \"type\": \"vega-lite\",\n",
    "    \"data\": str(chart.to_json()),\n",
    "    \"title\": \"Example Heatmap\",\n",
    "    \"description\": \"A simple heatmap example in vega-lite using Altair\",\n",
    "    \"category\": \"topic_modelling\",\n",
    "    \"narrative\": \"test_narrative\",\n",
    "    \"feedId\": \"id0\",\n",
    "    \"sourceId\": \"id1\",\n",
    "    \"articleId\": \"id2\"\n",
    "}"
   ]
  },
  {
   "cell_type": "code",
   "execution_count": 3,
   "metadata": {},
   "outputs": [
    {
     "name": "stdout",
     "output_type": "stream",
     "text": [
      "Heartbeat Started\n"
     ]
    }
   ],
   "source": [
    "from test_bed_adapter import (TestBedAdapter, TestBedOptions)\n",
    "from test_bed_adapter.kafka.consumer_manager import ConsumerManager\n",
    "from test_bed_adapter.kafka.producer_manager import ProducerManager\n",
    "\n",
    "#Use these if running outside of a docker image\n",
    "#KAFKA_HOST = '127.0.0.1:3501'\n",
    "#SCHEMA_REGISTRY = 'http://localhost:3502'\n",
    "\n",
    "KAFKA_HOST = '127.0.0.1:3501'\n",
    "SCHEMA_REGISTRY = 'http://localhost:3502'\n",
    "CONSUMER_GROUP = 'JUPYTER_NOTEBOOK'\n",
    "CONSUME = []\n",
    "PRODUCE = [\"visualization_item_generic\"]\n",
    "MESSAGE_MAX_BYTES = 1000000\n",
    "PARTITIONER = 'random'\n",
    "OFFSET_TYPE = 'earliest'\n",
    "HEARTBEAT_INTERVAL = 10\n",
    "\n",
    "tb_options = {\n",
    "    \"consumer_group\": CONSUMER_GROUP,\n",
    "    \"kafka_host\": KAFKA_HOST,\n",
    "    \"schema_registry\": SCHEMA_REGISTRY,\n",
    "    \"message_max_bytes\": MESSAGE_MAX_BYTES,\n",
    "    \"partitioner\": PARTITIONER,\n",
    "    \"offset_type\": OFFSET_TYPE,\n",
    "    \"heartbeat_interval\": HEARTBEAT_INTERVAL\n",
    "}\n",
    "\n",
    "TESTBED_OPTIONS = TestBedOptions(tb_options)\n",
    "\n",
    "test_bed_adapter = TestBedAdapter(TESTBED_OPTIONS)\n",
    "\n",
    "test_bed_adapter.initialize()\n",
    "producer = ProducerManager(options=TESTBED_OPTIONS, kafka_topic=PRODUCE[0])\n",
    "\n",
    "messages = 1 * [viz_message]\n",
    "producer.send_messages(messages)\n",
    "\n",
    "\n",
    "test_bed_adapter.stop()\n",
    "producer.stop()"
   ]
  }
 ],
 "metadata": {
  "kernelspec": {
   "display_name": "Python 3.9.7 64-bit (system)",
   "language": "python",
   "name": "python3"
  },
  "language_info": {
   "codemirror_mode": {
    "name": "ipython",
    "version": 3
   },
   "file_extension": ".py",
   "mimetype": "text/x-python",
   "name": "python",
   "nbconvert_exporter": "python",
   "pygments_lexer": "ipython3",
   "version": "3.9.7"
  },
  "orig_nbformat": 4,
  "vscode": {
   "interpreter": {
    "hash": "908d45b479f1d13e6ffa738fb38e10ebc768b708cc7003c9e43d43152fc2fee7"
   }
  }
 },
 "nbformat": 4,
 "nbformat_minor": 2
}
