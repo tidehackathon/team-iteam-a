{
    "cells": [
     {
      "cell_type": "code",
      "execution_count": 14,
      "metadata": {},
      "outputs": [
       {
        "data": {
         "text/plain": [
          "True"
         ]
        },
        "execution_count": 14,
        "metadata": {},
        "output_type": "execute_result"
       }
      ],
      "source": [
       "import weaviate\n",
       "\n",
       "#Use this if running outside of a docker image\n",
       "#weaviate_url = \"http://localhost:8888\"\n",
       "\n",
       "weaviate_url = \"http://weaviate:8080\"\n",
       "\n",
       "# connect to weaviate and check the connection\n",
       "client = weaviate.Client(weaviate_url)\n",
       "client.is_ready()\n"
      ]
     },
     {
      "cell_type": "markdown",
      "metadata": {},
      "source": [
       "# Get\n",
       "This query gets the title and url of 5 articles. Click [here](https://weaviate-python-client.readthedocs.io/en/latest/weaviate.gql.html#module-weaviate.gql.get) for more info\n",
       "\n",
       "NOTE: `.do()` must be called at the end of a get query\n",
       "\n",
       "For gql filters, click [here](https://weaviate-python-client.readthedocs.io/en/latest/weaviate.gql.html#module-weaviate.gql.filter)"
      ]
     },
     {
      "cell_type": "code",
      "execution_count": 26,
      "metadata": {},
      "outputs": [
       {
        "data": {
         "text/plain": [
          "{'data': {'Get': {'Article': [{'title': 'Russian diplomat confirms Lavrov’s plane not allowed to cross skies in several countries',\n",
          "     'url': 'https://tass.com/politics/1460937'},\n",
          "    {'title': 'US, Russia unlikely to have more productive relationship in current atmosphere, envoy says',\n",
          "     'url': 'https://tass.com/world/1460989'},\n",
          "    {'title': 'US envoy rules out complete separation between Moscow and Washington',\n",
          "     'url': 'https://tass.com/world/1460945'},\n",
          "    {'title': 'US, South Korea fire ballistic missiles in response to DPRK’s launches, Yonhap reports',\n",
          "     'url': 'https://tass.com/world/1460941'},\n",
          "    {'title': 'Russia, Latin America working to establish correspondent banking ties, diplomat says',\n",
          "     'url': 'https://tass.com/politics/1460955'}]}}}"
         ]
        },
        "execution_count": 26,
        "metadata": {},
        "output_type": "execute_result"
       }
      ],
      "source": [
       "client.query.get(class_name=\"article\", properties=[\"title\", \"url\"]).with_limit(5).do()"
      ]
     },
     {
      "cell_type": "markdown",
      "metadata": {},
      "source": [
       "# Aggregate\n",
       "Counts the total number of entries in the class `article`. Click [here](https://weaviate-python-client.readthedocs.io/en/latest/weaviate.gql.html#module-weaviate.gql.aggregate) for more info\n",
       "\n",
       "Aggregation can also be done using:\n",
       "- `.with_meta_count` sets meta count to True. Used to count objects per filtered group.\n",
       "- `.with_fields` - fields to return by the aggregated query.\n",
       "- `.with_group_by_filter` - set a `GroupBy` filter.\n",
       "- `.with_where` - aggregate objects using a `Where` filter.\n",
       "\n",
       "\n",
       "NOTE: `.do()` must be called at the end of an aggregate query\n",
       "\n",
       "For gql filters, click [here](https://weaviate-python-client.readthedocs.io/en/latest/weaviate.gql.html#module-weaviate.gql.filter)"
      ]
     },
     {
      "cell_type": "code",
      "execution_count": 29,
      "metadata": {},
      "outputs": [
       {
        "data": {
         "text/plain": [
          "{'data': {'Aggregate': {'Article': [{'meta': {'count': 26}}]}}}"
         ]
        },
        "execution_count": 29,
        "metadata": {},
        "output_type": "execute_result"
       }
      ],
      "source": [
       "client.query.aggregate(class_name=\"article\").with_meta_count().do()"
      ]
     },
     {
      "cell_type": "markdown",
      "metadata": {},
      "source": [
       "# Raw\n",
       "Use a raw string as graphql query. This query returns the title and url of 5 articles.\n",
       "The raw query supports any graphql query in string format.\n"
      ]
     },
     {
      "cell_type": "code",
      "execution_count": 27,
      "metadata": {},
      "outputs": [
       {
        "data": {
         "text/plain": [
          "{'data': {'Get': {'Article': [{'title': 'Russian diplomat confirms Lavrov’s plane not allowed to cross skies in several countries',\n",
          "     'url': 'https://tass.com/politics/1460937'},\n",
          "    {'title': 'US, Russia unlikely to have more productive relationship in current atmosphere, envoy says',\n",
          "     'url': 'https://tass.com/world/1460989'},\n",
          "    {'title': 'US envoy rules out complete separation between Moscow and Washington',\n",
          "     'url': 'https://tass.com/world/1460945'},\n",
          "    {'title': 'US, South Korea fire ballistic missiles in response to DPRK’s launches, Yonhap reports',\n",
          "     'url': 'https://tass.com/world/1460941'},\n",
          "    {'title': 'Russia, Latin America working to establish correspondent banking ties, diplomat says',\n",
          "     'url': 'https://tass.com/politics/1460955'}]}}}"
         ]
        },
        "execution_count": 27,
        "metadata": {},
        "output_type": "execute_result"
       }
      ],
      "source": [
       "query = \"\"\"\n",
       "{\n",
       "  Get {\n",
       "    Article(limit: 5) {\n",
       "      title\n",
       "      url\n",
       "    }\n",
       "  }\n",
       "}\n",
       "\"\"\"\n",
       "\n",
       "client.query.raw(query)"
      ]
     }
    ],
    "metadata": {
     "interpreter": {
      "hash": "079e56c5ebeda1d41e9fd14b00156f9d69d5f8697ef1eb8bf62e272d5cc04519"
     },
     "kernelspec": {
      "display_name": "Python 3.9.7 64-bit",
      "language": "python",
      "name": "python3"
     },
     "language_info": {
      "codemirror_mode": {
       "name": "ipython",
       "version": 3
      },
      "file_extension": ".py",
      "mimetype": "text/x-python",
      "name": "python",
      "nbconvert_exporter": "python",
      "pygments_lexer": "ipython3",
      "version": "3.9.7"
     },
     "orig_nbformat": 4
    },
    "nbformat": 4,
    "nbformat_minor": 2
   }